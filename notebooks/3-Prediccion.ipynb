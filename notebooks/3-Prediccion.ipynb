{
 "cells": [
  {
   "cell_type": "code",
   "execution_count": 1,
   "metadata": {},
   "outputs": [],
   "source": [
    "import pickle\n",
    "import numpy as np # type: ignore\n",
    "import pandas as pd # type: ignore"
   ]
  },
  {
   "cell_type": "code",
   "execution_count": 2,
   "metadata": {},
   "outputs": [],
   "source": [
    "# Cargar el modelo\n",
    "with open('../data/modelos/modelo_xgboost.pkl', 'rb') as f:\n",
    "    model = pickle.load(f)\n",
    "# Cargar los transformers\n",
    "with open('../data/transformer/transformer_scaler.pkl', 'rb') as f:\n",
    "    scaler = pickle.load(f)\n",
    "\n",
    "with open('../data/transformer/transformer_target.pkl', 'rb') as f:\n",
    "    target = pickle.load(f)\n",
    "\n",
    "with open('../data/transformer/transformer_one.pkl', 'rb') as f:\n",
    "    one = pickle.load(f)"
   ]
  },
  {
   "cell_type": "code",
   "execution_count": 3,
   "metadata": {},
   "outputs": [],
   "source": [
    "variables_one = ['MaritalStatus','JobRole','BusinessTravel', 'Department','EducationField']\n",
    "data = {\n",
    "    'Age': 55,\n",
    "    'Attrition': 'No',\n",
    "    'BusinessTravel': 'Travel_Rarely',\n",
    "    'Department': 'Sales',\n",
    "    'DistanceFromHome': 6,\n",
    "    'Education': 2,\n",
    "    'EducationField': 'Life Sciences',\n",
    "    'Gender': 'Female',\n",
    "    'JobLevel': 1,\n",
    "    'JobRole': 'Healthcare Representative',\n",
    "    'MaritalStatus': 'Married',\n",
    "    'MonthlyIncome': 131160,\n",
    "    'PercentSalaryHike': 11,\n",
    "    'StockOptionLevel': 0,\n",
    "    'TrainingTimesLastYear': 6,\n",
    "    'YearsAtCompany': 1,\n",
    "    'YearsSinceLastPromotion': 0,\n",
    "    'YearsWithCurrManager': 0,\n",
    "    'JobInvolvement': 3,\n",
    "    'PerformanceRating': 3,\n",
    "    'EnvironmentSatisfaction_knn': 3.0,\n",
    "    'JobSatisfaction_knn': 4.0,\n",
    "    'WorkLifeBalance_knn': 4.0,\n",
    "    'NumCompaniesWorked_knn': 1.0,\n",
    "    'TotalWorkingYears_knn': 1.0\n",
    "}\n"
   ]
  },
  {
   "cell_type": "code",
   "execution_count": 4,
   "metadata": {},
   "outputs": [
    {
     "data": {
      "text/html": [
       "<div>\n",
       "<style scoped>\n",
       "    .dataframe tbody tr th:only-of-type {\n",
       "        vertical-align: middle;\n",
       "    }\n",
       "\n",
       "    .dataframe tbody tr th {\n",
       "        vertical-align: top;\n",
       "    }\n",
       "\n",
       "    .dataframe thead th {\n",
       "        text-align: right;\n",
       "    }\n",
       "</style>\n",
       "<table border=\"1\" class=\"dataframe\">\n",
       "  <thead>\n",
       "    <tr style=\"text-align: right;\">\n",
       "      <th></th>\n",
       "      <th>Age</th>\n",
       "      <th>Attrition</th>\n",
       "      <th>BusinessTravel</th>\n",
       "      <th>Department</th>\n",
       "      <th>DistanceFromHome</th>\n",
       "      <th>Education</th>\n",
       "      <th>EducationField</th>\n",
       "      <th>Gender</th>\n",
       "      <th>JobLevel</th>\n",
       "      <th>JobRole</th>\n",
       "      <th>...</th>\n",
       "      <th>YearsAtCompany</th>\n",
       "      <th>YearsSinceLastPromotion</th>\n",
       "      <th>YearsWithCurrManager</th>\n",
       "      <th>JobInvolvement</th>\n",
       "      <th>PerformanceRating</th>\n",
       "      <th>EnvironmentSatisfaction_knn</th>\n",
       "      <th>JobSatisfaction_knn</th>\n",
       "      <th>WorkLifeBalance_knn</th>\n",
       "      <th>NumCompaniesWorked_knn</th>\n",
       "      <th>TotalWorkingYears_knn</th>\n",
       "    </tr>\n",
       "  </thead>\n",
       "  <tbody>\n",
       "    <tr>\n",
       "      <th>0</th>\n",
       "      <td>55</td>\n",
       "      <td>No</td>\n",
       "      <td>Travel_Rarely</td>\n",
       "      <td>Sales</td>\n",
       "      <td>6</td>\n",
       "      <td>2</td>\n",
       "      <td>Life Sciences</td>\n",
       "      <td>Female</td>\n",
       "      <td>1</td>\n",
       "      <td>Healthcare Representative</td>\n",
       "      <td>...</td>\n",
       "      <td>1</td>\n",
       "      <td>0</td>\n",
       "      <td>0</td>\n",
       "      <td>3</td>\n",
       "      <td>3</td>\n",
       "      <td>3.0</td>\n",
       "      <td>4.0</td>\n",
       "      <td>4.0</td>\n",
       "      <td>1.0</td>\n",
       "      <td>1.0</td>\n",
       "    </tr>\n",
       "  </tbody>\n",
       "</table>\n",
       "<p>1 rows × 25 columns</p>\n",
       "</div>"
      ],
      "text/plain": [
       "   Age Attrition BusinessTravel Department  DistanceFromHome  Education  \\\n",
       "0   55        No  Travel_Rarely      Sales                 6          2   \n",
       "\n",
       "  EducationField  Gender  JobLevel                    JobRole  ...  \\\n",
       "0  Life Sciences  Female         1  Healthcare Representative  ...   \n",
       "\n",
       "  YearsAtCompany  YearsSinceLastPromotion  YearsWithCurrManager  \\\n",
       "0              1                        0                     0   \n",
       "\n",
       "   JobInvolvement  PerformanceRating  EnvironmentSatisfaction_knn  \\\n",
       "0               3                  3                          3.0   \n",
       "\n",
       "   JobSatisfaction_knn  WorkLifeBalance_knn  NumCompaniesWorked_knn  \\\n",
       "0                  4.0                  4.0                     1.0   \n",
       "\n",
       "   TotalWorkingYears_knn  \n",
       "0                    1.0  \n",
       "\n",
       "[1 rows x 25 columns]"
      ]
     },
     "execution_count": 4,
     "metadata": {},
     "output_type": "execute_result"
    }
   ],
   "source": [
    "df_pred = pd.DataFrame(data, index = [0])\n",
    "df_pred.head(2)"
   ]
  },
  {
   "cell_type": "code",
   "execution_count": 5,
   "metadata": {},
   "outputs": [],
   "source": [
    "col_numericas = df_pred.select_dtypes(include = np.number).columns\n",
    "df_pred[col_numericas] = scaler.transform(df_pred[col_numericas])\n"
   ]
  },
  {
   "cell_type": "code",
   "execution_count": 6,
   "metadata": {},
   "outputs": [],
   "source": [
    "# transformamos las categorias one-hot\n",
    "df_one = pd.DataFrame(one.transform(df_pred[variables_one]).toarray(), columns=one.get_feature_names_out())\n",
    "df_pred = pd.concat([df_pred, df_one], axis = 1)\n",
    "df_pred.drop(columns = variables_one, axis = 1, inplace = True)"
   ]
  },
  {
   "cell_type": "code",
   "execution_count": 7,
   "metadata": {},
   "outputs": [],
   "source": [
    " # transformamos las categoricas de target\n",
    "df_pred = target.transform(df_pred)"
   ]
  },
  {
   "cell_type": "code",
   "execution_count": 8,
   "metadata": {},
   "outputs": [],
   "source": [
    "df_pred.drop(columns=['Attrition'],inplace=True)"
   ]
  },
  {
   "cell_type": "code",
   "execution_count": 9,
   "metadata": {},
   "outputs": [
    {
     "name": "stdout",
     "output_type": "stream",
     "text": [
      "[[0.8222095  0.17779054]]\n"
     ]
    }
   ],
   "source": [
    "prediction = model.predict(df_pred)\n",
    "prob = model.predict_proba(df_pred)\n",
    "print(prob)"
   ]
  },
  {
   "cell_type": "code",
   "execution_count": 10,
   "metadata": {},
   "outputs": [
    {
     "data": {
      "text/plain": [
       "array([0])"
      ]
     },
     "execution_count": 10,
     "metadata": {},
     "output_type": "execute_result"
    }
   ],
   "source": [
    "prediction"
   ]
  },
  {
   "cell_type": "code",
   "execution_count": null,
   "metadata": {},
   "outputs": [],
   "source": []
  }
 ],
 "metadata": {
  "kernelspec": {
   "display_name": "Python 3",
   "language": "python",
   "name": "python3"
  },
  "language_info": {
   "codemirror_mode": {
    "name": "ipython",
    "version": 3
   },
   "file_extension": ".py",
   "mimetype": "text/x-python",
   "name": "python",
   "nbconvert_exporter": "python",
   "pygments_lexer": "ipython3",
   "version": "3.12.5"
  }
 },
 "nbformat": 4,
 "nbformat_minor": 2
}
